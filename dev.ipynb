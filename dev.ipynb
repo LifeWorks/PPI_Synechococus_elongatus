{
 "cells": [
  {
   "cell_type": "code",
   "execution_count": null,
   "metadata": {},
   "outputs": [],
   "source": [
    "---\n",
    "title: \"Developing notebook\"\n",
    "format: html\n",
    "---"
   ]
  },
  {
   "cell_type": "code",
   "execution_count": 1,
   "metadata": {},
   "outputs": [],
   "source": [
    "import matplotlib.pyplot as plt\n",
    "import numpy as np\n",
    "from scipy import optimize as opt\n",
    "from scipy.integrate import odeint\n",
    "from scipy.interpolate import interp1d\n",
    "import csv\n",
    "import os\n",
    "from scipy.stats import pearsonr\n",
    "import scipy.odr as odr\n",
    "import pandas as pd\n",
    "import networkx as nx\n",
    "import seaborn as sns\n"
   ]
  },
  {
   "cell_type": "code",
   "execution_count": null,
   "metadata": {},
   "outputs": [],
   "source": [
    "result_dir = \"./cellbox/RNA/\"\n",
    "fileloc = './'\n",
    "matrix_w = pd.read_csv(fileloc, header=None)\n",
    "print(matrix_w.shape)\n",
    "# print(matrix_w.abs().max().max())\n",
    "# print(matrix_w.abs().min().min())"
   ]
  }
 ],
 "metadata": {
  "kernelspec": {
   "display_name": "phenome",
   "language": "python",
   "name": "python3"
  },
  "language_info": {
   "codemirror_mode": {
    "name": "ipython",
    "version": 3
   },
   "file_extension": ".py",
   "mimetype": "text/x-python",
   "name": "python",
   "nbconvert_exporter": "python",
   "pygments_lexer": "ipython3",
   "version": "3.9.15"
  },
  "orig_nbformat": 4
 },
 "nbformat": 4,
 "nbformat_minor": 2
}
