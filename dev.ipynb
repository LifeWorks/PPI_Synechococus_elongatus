{
 "cells": [
  {
   "cell_type": "code",
   "execution_count": null,
   "metadata": {},
   "outputs": [],
   "source": [
    "---\n",
    "title: \"Developing notebook\"\n",
    "format: html\n",
    "---"
   ]
  },
  {
   "cell_type": "code",
   "execution_count": 2,
   "metadata": {},
   "outputs": [],
   "source": [
    "import matplotlib.pyplot as plt\n",
    "import numpy as np\n",
    "from scipy import optimize as opt\n",
    "from scipy.integrate import odeint\n",
    "from scipy.interpolate import interp1d\n",
    "import csv\n",
    "import os\n",
    "from scipy.stats import pearsonr\n",
    "import scipy.odr as odr\n",
    "import pandas as pd\n",
    "import networkx as nx\n",
    "import seaborn as sns\n"
   ]
  },
  {
   "cell_type": "code",
   "execution_count": null,
   "metadata": {},
   "outputs": [],
   "source": [
    "fileloc = './'\n",
    "matrix_w = pd.read_csv(fileloc, header=None)\n",
    "print(matrix_w.shape)\n",
    "# print(matrix_w.abs().max().max())\n",
    "# print(matrix_w.abs().min().min())"
   ]
  }
 ],
 "metadata": {
  "kernelspec": {
   "display_name": "phenome",
   "language": "python",
   "name": "python3"
  },
  "language_info": {
   "file_extension": ".jl",
   "mimetype": "application/julia",
   "name": "python",
   "version": "3.9.15"
  },
  "orig_nbformat": 4
 },
 "nbformat": 4,
 "nbformat_minor": 2
}
