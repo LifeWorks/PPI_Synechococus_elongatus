{
 "cells": [
  {
   "cell_type": "code",
   "execution_count": null,
   "metadata": {},
   "outputs": [],
   "source": [
    "---\n",
    "title: \"Developing notebook\"\n",
    "format: html\n",
    "---"
   ]
  },
  {
   "cell_type": "code",
   "execution_count": 2,
   "metadata": {},
   "outputs": [],
   "source": [
    "import os, sys, re, csv\n",
    "import matplotlib.pyplot as plt\n",
    "import numpy as np\n",
    "import scipy as sp\n",
    "import pandas as pd\n",
    "from scipy import optimize as opt\n",
    "from scipy.integrate import odeint\n",
    "from scipy.interpolate import interp1d\n",
    "from scipy.stats import pearsonr\n",
    "import scipy.odr as odr\n",
    "import networkx as nx\n",
    "import seaborn as sns\n"
   ]
  },
  {
   "attachments": {},
   "cell_type": "markdown",
   "metadata": {},
   "source": [
    "Here we read the whole matrix of Ws and try to understand the distributions.\n",
    "\n",
    "The dimension of the matrix is:\n"
   ]
  },
  {
   "cell_type": "code",
   "execution_count": 9,
   "metadata": {},
   "outputs": [],
   "source": [
    "result_dir = \"./cellbox/RNA/20230310_cyano_rna_results/seed_230309/\"\n",
    "evals = pd.read_csv(result_dir + 'record_eval.csv', index_col=False)"
   ]
  },
  {
   "cell_type": "code",
   "execution_count": 11,
   "metadata": {},
   "outputs": [
    {
     "data": {
      "text/html": [
       "<div>\n",
       "<style scoped>\n",
       "    .dataframe tbody tr th:only-of-type {\n",
       "        vertical-align: middle;\n",
       "    }\n",
       "\n",
       "    .dataframe tbody tr th {\n",
       "        vertical-align: top;\n",
       "    }\n",
       "\n",
       "    .dataframe thead th {\n",
       "        text-align: right;\n",
       "    }\n",
       "</style>\n",
       "<table border=\"1\" class=\"dataframe\">\n",
       "  <thead>\n",
       "    <tr style=\"text-align: right;\">\n",
       "      <th></th>\n",
       "      <th>epoch</th>\n",
       "      <th>iter</th>\n",
       "      <th>train_loss</th>\n",
       "      <th>valid_loss</th>\n",
       "      <th>train_mse</th>\n",
       "      <th>valid_mse</th>\n",
       "      <th>test_mse</th>\n",
       "      <th>time_elapsed</th>\n",
       "    </tr>\n",
       "  </thead>\n",
       "  <tbody>\n",
       "    <tr>\n",
       "      <th>6606</th>\n",
       "      <td>-1</td>\n",
       "      <td>None</td>\n",
       "      <td>None</td>\n",
       "      <td>34.5013427734375</td>\n",
       "      <td>None</td>\n",
       "      <td>31.733522415161133</td>\n",
       "      <td>None</td>\n",
       "      <td>0.639109</td>\n",
       "    </tr>\n",
       "    <tr>\n",
       "      <th>6607</th>\n",
       "      <td>-1</td>\n",
       "      <td>None</td>\n",
       "      <td>None</td>\n",
       "      <td>None</td>\n",
       "      <td>None</td>\n",
       "      <td>None</td>\n",
       "      <td>75.5876235961914</td>\n",
       "      <td>0.634421</td>\n",
       "    </tr>\n",
       "    <tr>\n",
       "      <th>6944</th>\n",
       "      <td>-1</td>\n",
       "      <td>None</td>\n",
       "      <td>None</td>\n",
       "      <td>32.10624694824219</td>\n",
       "      <td>None</td>\n",
       "      <td>31.722930908203125</td>\n",
       "      <td>None</td>\n",
       "      <td>0.042356</td>\n",
       "    </tr>\n",
       "    <tr>\n",
       "      <th>6945</th>\n",
       "      <td>-1</td>\n",
       "      <td>None</td>\n",
       "      <td>None</td>\n",
       "      <td>None</td>\n",
       "      <td>None</td>\n",
       "      <td>None</td>\n",
       "      <td>75.55860137939453</td>\n",
       "      <td>0.076163</td>\n",
       "    </tr>\n",
       "    <tr>\n",
       "      <th>7282</th>\n",
       "      <td>-1</td>\n",
       "      <td>None</td>\n",
       "      <td>None</td>\n",
       "      <td>27.228490829467773</td>\n",
       "      <td>None</td>\n",
       "      <td>27.138607025146484</td>\n",
       "      <td>None</td>\n",
       "      <td>0.049767</td>\n",
       "    </tr>\n",
       "    <tr>\n",
       "      <th>7283</th>\n",
       "      <td>-1</td>\n",
       "      <td>None</td>\n",
       "      <td>None</td>\n",
       "      <td>None</td>\n",
       "      <td>None</td>\n",
       "      <td>None</td>\n",
       "      <td>73.33203887939453</td>\n",
       "      <td>0.076021</td>\n",
       "    </tr>\n",
       "    <tr>\n",
       "      <th>7620</th>\n",
       "      <td>-1</td>\n",
       "      <td>None</td>\n",
       "      <td>None</td>\n",
       "      <td>26.837907791137695</td>\n",
       "      <td>None</td>\n",
       "      <td>26.812124252319336</td>\n",
       "      <td>None</td>\n",
       "      <td>0.045986</td>\n",
       "    </tr>\n",
       "    <tr>\n",
       "      <th>7621</th>\n",
       "      <td>-1</td>\n",
       "      <td>None</td>\n",
       "      <td>None</td>\n",
       "      <td>None</td>\n",
       "      <td>None</td>\n",
       "      <td>None</td>\n",
       "      <td>72.87110137939453</td>\n",
       "      <td>0.066816</td>\n",
       "    </tr>\n",
       "    <tr>\n",
       "      <th>8768</th>\n",
       "      <td>-1</td>\n",
       "      <td>None</td>\n",
       "      <td>None</td>\n",
       "      <td>47.781288146972656</td>\n",
       "      <td>None</td>\n",
       "      <td>47.69268798828125</td>\n",
       "      <td>None</td>\n",
       "      <td>1.166981</td>\n",
       "    </tr>\n",
       "    <tr>\n",
       "      <th>8769</th>\n",
       "      <td>-1</td>\n",
       "      <td>None</td>\n",
       "      <td>None</td>\n",
       "      <td>None</td>\n",
       "      <td>None</td>\n",
       "      <td>None</td>\n",
       "      <td>81.4090805053711</td>\n",
       "      <td>1.231221</td>\n",
       "    </tr>\n",
       "    <tr>\n",
       "      <th>10518</th>\n",
       "      <td>-1</td>\n",
       "      <td>None</td>\n",
       "      <td>None</td>\n",
       "      <td>30.484554290771484</td>\n",
       "      <td>None</td>\n",
       "      <td>30.390735626220703</td>\n",
       "      <td>None</td>\n",
       "      <td>2.647036</td>\n",
       "    </tr>\n",
       "    <tr>\n",
       "      <th>10519</th>\n",
       "      <td>-1</td>\n",
       "      <td>None</td>\n",
       "      <td>None</td>\n",
       "      <td>None</td>\n",
       "      <td>None</td>\n",
       "      <td>None</td>\n",
       "      <td>72.77559661865234</td>\n",
       "      <td>2.740570</td>\n",
       "    </tr>\n",
       "  </tbody>\n",
       "</table>\n",
       "</div>"
      ],
      "text/plain": [
       "       epoch  iter train_loss          valid_loss train_mse  \\\n",
       "6606      -1  None       None    34.5013427734375      None   \n",
       "6607      -1  None       None                None      None   \n",
       "6944      -1  None       None   32.10624694824219      None   \n",
       "6945      -1  None       None                None      None   \n",
       "7282      -1  None       None  27.228490829467773      None   \n",
       "7283      -1  None       None                None      None   \n",
       "7620      -1  None       None  26.837907791137695      None   \n",
       "7621      -1  None       None                None      None   \n",
       "8768      -1  None       None  47.781288146972656      None   \n",
       "8769      -1  None       None                None      None   \n",
       "10518     -1  None       None  30.484554290771484      None   \n",
       "10519     -1  None       None                None      None   \n",
       "\n",
       "                valid_mse           test_mse  time_elapsed  \n",
       "6606   31.733522415161133               None      0.639109  \n",
       "6607                 None   75.5876235961914      0.634421  \n",
       "6944   31.722930908203125               None      0.042356  \n",
       "6945                 None  75.55860137939453      0.076163  \n",
       "7282   27.138607025146484               None      0.049767  \n",
       "7283                 None  73.33203887939453      0.076021  \n",
       "7620   26.812124252319336               None      0.045986  \n",
       "7621                 None  72.87110137939453      0.066816  \n",
       "8768    47.69268798828125               None      1.166981  \n",
       "8769                 None   81.4090805053711      1.231221  \n",
       "10518  30.390735626220703               None      2.647036  \n",
       "10519                None  72.77559661865234      2.740570  "
      ]
     },
     "execution_count": 11,
     "metadata": {},
     "output_type": "execute_result"
    }
   ],
   "source": [
    "reps_info = evals[evals[\"epoch\"] == -1]"
   ]
  },
  {
   "cell_type": "code",
   "execution_count": null,
   "metadata": {},
   "outputs": [],
   "source": [
    "matrix_w = pd.read_csv(w_file, header=None)\n",
    "print(matrix_w.shape)\n",
    "# print(matrix_w.abs().max().max())\n",
    "# print(matrix_w.abs().min().min())"
   ]
  },
  {
   "cell_type": "code",
   "execution_count": null,
   "metadata": {},
   "outputs": [],
   "source": [
    "df = matrix_w.copy()\n",
    "df[df.abs() == 0] = np.nan\n",
    "print(df.abs().max().max())\n",
    "print(df.abs().min().min())\n",
    "print(df.max().max())\n",
    "print(df.min().min())\n"
   ]
  },
  {
   "attachments": {},
   "cell_type": "markdown",
   "metadata": {},
   "source": [
    "Ploting the histogram of all values:\n"
   ]
  },
  {
   "cell_type": "code",
   "execution_count": null,
   "metadata": {},
   "outputs": [],
   "source": [
    "#| label: fig_w_dist\n",
    "#| fig-cap: \"Distribution of Ws\"\n",
    "matrix_w.stack().plot.hist(bins=100);\n"
   ]
  },
  {
   "attachments": {},
   "cell_type": "markdown",
   "metadata": {},
   "source": [
    "Now if we set arbitrary thresholds say abs(w) > 0.1\n"
   ]
  },
  {
   "cell_type": "code",
   "execution_count": null,
   "metadata": {},
   "outputs": [],
   "source": [
    "#| label: fig_w_dist_0.1\n",
    "#| fig-cap: \"Distribution of Ws\"\n",
    "df = matrix_w.copy()\n",
    "df[df.abs() < 0.1] = np.nan\n",
    "df.stack().plot.hist(bins=100);\n",
    "# df[df>0].stack().plot.hist(bins=100);\n",
    "# df[df<0].stack().plot.hist(bins=100);\n"
   ]
  },
  {
   "attachments": {},
   "cell_type": "markdown",
   "metadata": {},
   "source": [
    "Now if we increaset to 0.5\n"
   ]
  },
  {
   "cell_type": "code",
   "execution_count": null,
   "metadata": {},
   "outputs": [],
   "source": [
    "#| label: fig_w_dist_0.5\n",
    "#| fig-cap: \"Distribution of Ws\"\n",
    "df = matrix_w.copy()\n",
    "df[df.abs() < 0.5] = np.nan\n",
    "df.stack().plot.hist(bins=100);\n",
    "# df[df>0].stack().plot.hist(bins=100);\n",
    "# df[df<0].stack().plot.hist(bins=100);\n"
   ]
  },
  {
   "attachments": {},
   "cell_type": "markdown",
   "metadata": {},
   "source": [
    "It seems the histogram can not reflect what are the values distritbute, here is what we can do:\n",
    "1) transform all the values to absolute \n",
    "2) replace zeros with nan\n",
    "3) log10 transform all the values\n",
    "4) replot the histogram\n"
   ]
  },
  {
   "cell_type": "code",
   "execution_count": null,
   "metadata": {},
   "outputs": [],
   "source": [
    "#| label: fig_w_log10_dist\n",
    "#| fig-cap: \"Distribution of log10(abs(Ws))\"\n",
    "matrix_wlog10 = np.log10(matrix_w.abs().replace(0, np.nan))\n",
    "matrix_wlog10.stack().plot.hist(bins=100);\n"
   ]
  },
  {
   "attachments": {},
   "cell_type": "markdown",
   "metadata": {},
   "source": [
    "Now based on the distribution of log10(abs(Ws)), we can fairly say that $10^{-3}$ is a good candidate for the cut-off. We take all values whose absotlute is smaller than $10^{-3}$ will be $0$ and considered as no interactions.\n",
    "\n",
    "Now if we plot them with their actual values after filtering:\n"
   ]
  },
  {
   "cell_type": "code",
   "execution_count": null,
   "metadata": {},
   "outputs": [],
   "source": [
    "matrix_w_temp = matrix_wlog10.copy().replace(0, np.nan)\n",
    "matrix_w_temp[matrix_w_temp <= -3] = np.nan\n",
    "matrix_w_temp += 3.2\n",
    "matrix_w_temp[matrix_w < 0] = - matrix_w_temp[matrix_w < 0]\n",
    "matrix_w_temp.stack().plot.hist(bins=100).set_xticks([-3.2, -2.2, -1.2 , -0.2, 0.2, 1.2, 2.2, 3.2], [\"-1\", \"-0.1\", \"-0.01\", \"-0.001\", \"0.001\", \"0.01\", \"0.1\", \"1\"], rotation=60);\n"
   ]
  },
  {
   "attachments": {},
   "cell_type": "markdown",
   "metadata": {},
   "source": [
    "When transform back to linear scale it looks like:\n"
   ]
  },
  {
   "cell_type": "code",
   "execution_count": null,
   "metadata": {},
   "outputs": [],
   "source": [
    "matrix_w_new_log = matrix_wlog10.copy().replace(0, np.nan)\n",
    "matrix_w_new_log[matrix_w_new_log <= -3] = np.nan\n",
    "matrix_w_new_log += 3.0\n",
    "matrix_w_new_log[matrix_w < 0] = - matrix_w_new_log[matrix_w < 0]\n",
    "\n",
    "matrix_w_new = matrix_wlog10.copy().replace(0, np.nan)\n",
    "matrix_w_new[matrix_w_new <= -3] = np.nan\n",
    "matrix_w_new = 10 ** matrix_w_new\n",
    "matrix_w_new[matrix_w < 0] = - matrix_w_new[matrix_w < 0]\n",
    "matrix_w_new.stack().plot.hist(bins=100);\n"
   ]
  },
  {
   "cell_type": "markdown",
   "metadata": {},
   "source": [
    "Now we construct the network to see the structure of model:\n",
    "\n",
    "First, we plot the heatmaps of the interactions: \n"
   ]
  },
  {
   "cell_type": "code",
   "execution_count": null,
   "metadata": {},
   "outputs": [],
   "source": [
    "#| label: fig_w_log10_heatmap\n",
    "#| fig-cap: \"Heatmap of Ws\"\n",
    "sns.heatmap(matrix_w_new_log, cmap=\"coolwarm\", center=0, cbar_kws={'ticks': [-3, -2, -1, 0, 1, 2, 3]}).collections[0].colorbar.set_ticklabels([-1, -0.1, -0.01, 0, 0.01, 0.1, 1]);\n"
   ]
  },
  {
   "attachments": {},
   "cell_type": "markdown",
   "metadata": {},
   "source": [
    "If we color them using linear scale values:\n"
   ]
  },
  {
   "cell_type": "code",
   "execution_count": null,
   "metadata": {},
   "outputs": [],
   "source": [
    "#| label: fig_w_heatmap\n",
    "#| fig-cap: \"Heatmap of Ws in linear scale\"\n",
    "sns.heatmap(matrix_w_new, cmap=\"coolwarm\", center=0);\n"
   ]
  },
  {
   "attachments": {},
   "cell_type": "markdown",
   "metadata": {},
   "source": [
    "And if we set the threshold as 0.01\n"
   ]
  },
  {
   "cell_type": "code",
   "execution_count": null,
   "metadata": {},
   "outputs": [],
   "source": [
    "#| label: fig_w_log10_heatmap_0.01\n",
    "#| fig-cap: \"Heatmap of Ws\"\n",
    "df = matrix_w_new_log.copy()\n",
    "df[df.abs() < 1] = np.nan\n",
    "sns.heatmap(df, cmap=\"coolwarm\", center=0, cbar_kws={'ticks': [-3, -2, -1, 0, 1, 2, 3]}).collections[0].colorbar.set_ticklabels([-1, -0.1, -0.01, 0, 0.01, 0.1, 1]);\n"
   ]
  },
  {
   "cell_type": "code",
   "execution_count": null,
   "metadata": {},
   "outputs": [],
   "source": [
    "#| label: fig_w_heatmap_0.01\n",
    "#| fig-cap: \"Heatmap of Ws in linear scale\"\n",
    "df = matrix_w_new.copy()\n",
    "df[df.abs() < 0.01] = np.nan\n",
    "sns.heatmap(df, cmap=\"coolwarm\", center=0);\n"
   ]
  },
  {
   "attachments": {},
   "cell_type": "markdown",
   "metadata": {},
   "source": [
    "What about 0.1?\n"
   ]
  },
  {
   "cell_type": "code",
   "execution_count": null,
   "metadata": {},
   "outputs": [],
   "source": [
    "#| label: fig_w_log10_heatmap_0.1\n",
    "#| fig-cap: \"Heatmap of Ws\"\n",
    "df = matrix_w_new_log.copy()\n",
    "df[df.abs() < 2] = np.nan\n",
    "sns.heatmap(df, cmap=\"coolwarm\", center=0, cbar_kws={'ticks': [-3, -2, -1, 0, 1, 2, 3]}).collections[0].colorbar.set_ticklabels([-1, -0.1, -0.01, 0, 0.01, 0.1, 1]);\n"
   ]
  },
  {
   "cell_type": "code",
   "execution_count": null,
   "metadata": {},
   "outputs": [],
   "source": [
    "#| label: fig_w_heatmap_0.1\n",
    "#| fig-cap: \"Heatmap of Ws in linear scale\"\n",
    "df = matrix_w_new.copy()\n",
    "df[df.abs() < 0.1] = np.nan\n",
    "sns.heatmap(df, cmap=\"coolwarm\", center=0);\n"
   ]
  },
  {
   "cell_type": "code",
   "execution_count": null,
   "metadata": {},
   "outputs": [],
   "source": [
    "print(matrix_w_new.abs().max().max())\n",
    "print(matrix_w_new.abs().min().min())\n"
   ]
  },
  {
   "cell_type": "markdown",
   "metadata": {},
   "source": [
    "The heatmap is showing the perturbations and phenotypes are connected with molecular signatures. And it is why there are missing values between the perturbations and phenotypes.\n",
    "\n",
    "Next, we construct network to see what subnetworks are generated. \n"
   ]
  },
  {
   "cell_type": "code",
   "execution_count": null,
   "metadata": {},
   "outputs": [],
   "source": [
    "df = matrix_w.copy()\n",
    "df[df.abs() < 0.001] = 0\n",
    "# df[df <= -0.001] = -1\n",
    "# df[df >= 0.001] = 1\n",
    "G = nx.from_numpy_array(df.to_numpy(), create_using=nx.DiGraph())\n",
    "df001 = matrix_w.copy()\n",
    "df001[df001.abs() < 0.01] = 0\n",
    "# df001[df001 <= -0.01] = -1\n",
    "# df001[df001 >= 0.01] = 1\n",
    "G001 = nx.from_numpy_array(df001.to_numpy(), create_using=nx.DiGraph())\n",
    "df01 = matrix_w.copy()\n",
    "df01[df01.abs() < 0.1] = 0\n",
    "# df01[df01 <= -0.1] = -1\n",
    "# df01[df01 >= 0.1] = 1\n",
    "G01 = nx.from_numpy_array(df01.to_numpy(), create_using=nx.DiGraph())\n",
    "# df05 = matrix_w.copy()\n",
    "# df05[df05.abs() < 0.5] = 0\n",
    "# df05[df05.abs() <= -0.5] = -1\n",
    "# df05[df05.abs() >= 0.5] = 1\n",
    "# G05 = nx.from_numpy_array(df05.to_numpy(), create_using=nx.DiGraph())\n",
    "# df09 = matrix_w.copy()\n",
    "# df09[df09.abs() < 0.9] = 0\n",
    "# df09[df09.abs() <= -0.9] = -1\n",
    "# df09[df09.abs() >= 0.9] = 1\n",
    "# G09 = nx.from_numpy_array(df09.to_numpy(), create_using=nx.DiGraph())\n",
    "# df1 = matrix_w.copy()\n",
    "# df1[df1.abs() < 1] = 0\n",
    "# df1[df1.abs() <= -1] = -1\n",
    "# df1[df1.abs() >= 1] = 1\n",
    "# G1 = nx.from_numpy_array(df1.to_numpy(), create_using=nx.DiGraph())\n"
   ]
  },
  {
   "attachments": {},
   "cell_type": "markdown",
   "metadata": {},
   "source": [
    "Calculate the connected components with differently filtered networks.\n"
   ]
  },
  {
   "cell_type": "code",
   "execution_count": null,
   "metadata": {},
   "outputs": [],
   "source": [
    "G_comp = [len(c) for c in sorted(nx.strongly_connected_components(G), key=len, reverse=True)]\n",
    "G01_comp = [len(c) for c in sorted(nx.strongly_connected_components(G01), key=len, reverse=True)]\n",
    "G001_comp = [len(c) for c in sorted(nx.strongly_connected_components(G001), key=len, reverse=True)]\n",
    "# G05_comp = [len(c) for c in sorted(nx.strongly_connected_components(G05), key=len, reverse=True)]\n",
    "# G09_comp = [len(c) for c in sorted(nx.strongly_connected_components(G09), key=len, reverse=True)]\n",
    "# G1_comp = [len(c) for c in sorted(nx.strongly_connected_components(G1), key=len, reverse=True)]\n",
    "print(\"Network with 1e-3 threshold has\", len(G_comp), \" strongly connected components. And their sizes are:\")\n",
    "print(G_comp)\n",
    "print(\"Network with 1e-2 threshold has\", len(G001_comp), \" strongly connected components. And their sizes are:\")\n",
    "print(G001_comp)\n",
    "print(\"Network with 1e-1 threshold has\", len(G01_comp), \" strongly connected components. And their sizes are:\")\n",
    "print(G01_comp)\n",
    "# print(\"Network with 5e-1 threshold has\", len(G05_comp), \" strongly connected components. And their sizes are:\")\n",
    "# print(G05_comp)\n",
    "# print(\"Network with 9e-1 threshold has\", len(G09_comp), \" strongly connected components. And their sizes are:\")\n",
    "# print(G09_comp)\n",
    "# print(\"Network with 1 threshold has\", len(G1_comp), \" strongly connected components. And their sizes are:\")\n",
    "# print(G1_comp)\n"
   ]
  },
  {
   "attachments": {},
   "cell_type": "markdown",
   "metadata": {},
   "source": [
    "##### Visualization of these graphs\n",
    "\n",
    "TODO: Drop all zeros\n"
   ]
  },
  {
   "cell_type": "code",
   "execution_count": null,
   "metadata": {},
   "outputs": [],
   "source": [
    "nodes_num = 157\n"
   ]
  },
  {
   "attachments": {},
   "cell_type": "markdown",
   "metadata": {},
   "source": [
    "Networks of 0.001\n"
   ]
  },
  {
   "cell_type": "code",
   "execution_count": null,
   "metadata": {},
   "outputs": [],
   "source": [
    "df = matrix_w.copy()\n",
    "df[df.abs() < 0.001] = 0\n",
    "G = nx.from_numpy_array(df.iloc[:nodes_num, :nodes_num].to_numpy(), create_using=nx.DiGraph())\n",
    "pos = nx.circular_layout(G)\n",
    "nx.draw_circular(G)\n"
   ]
  },
  {
   "attachments": {},
   "cell_type": "markdown",
   "metadata": {},
   "source": [
    "Networks of 0.01\n"
   ]
  },
  {
   "cell_type": "code",
   "execution_count": null,
   "metadata": {},
   "outputs": [],
   "source": [
    "df = matrix_w.copy()\n",
    "df[df.abs() < 0.01] = 0\n",
    "G = nx.from_numpy_array(df.iloc[:nodes_num, :nodes_num].to_numpy(), create_using=nx.DiGraph())\n",
    "pos = nx.circular_layout(G)\n",
    "nx.draw_circular(G)\n"
   ]
  },
  {
   "attachments": {},
   "cell_type": "markdown",
   "metadata": {},
   "source": [
    "Networks of 0.1\n"
   ]
  },
  {
   "cell_type": "code",
   "execution_count": null,
   "metadata": {},
   "outputs": [],
   "source": [
    "df = matrix_w.copy()\n",
    "df[df.abs() < 0.1] = 0\n",
    "G = nx.from_numpy_array(df.iloc[:nodes_num, :nodes_num].to_numpy(), create_using=nx.DiGraph())\n",
    "pos = nx.circular_layout(G)\n",
    "nx.draw_circular(G)\n"
   ]
  },
  {
   "attachments": {},
   "cell_type": "markdown",
   "metadata": {},
   "source": [
    "Now what is more important is whether cellbox has a good enough model. Need to check the loss function.\n"
   ]
  },
  {
   "cell_type": "code",
   "execution_count": null,
   "metadata": {},
   "outputs": [],
   "source": [
    "df\n"
   ]
  }
 ],
 "metadata": {
  "kernelspec": {
   "display_name": "phenome",
   "language": "python",
   "name": "python3"
  },
  "language_info": {
   "codemirror_mode": {
    "name": "ipython",
    "version": 3
   },
   "file_extension": ".py",
   "mimetype": "text/x-python",
   "name": "python",
   "nbconvert_exporter": "python",
   "pygments_lexer": "ipython3",
   "version": "3.9.15"
  },
  "orig_nbformat": 4
 },
 "nbformat": 4,
 "nbformat_minor": 2
}
